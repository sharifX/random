{
 "cells": [
  {
   "cell_type": "code",
   "execution_count": 1,
   "id": "486bbba7",
   "metadata": {},
   "outputs": [],
   "source": [
    "\n",
    "\n",
    "# Load the libraries for markdown display, url and json \n",
    "from IPython.display import Markdown as md\n",
    "import urllib.request, json, requests"
   ]
  },
  {
   "cell_type": "code",
   "execution_count": 2,
   "id": "c2db692d",
   "metadata": {},
   "outputs": [
    {
     "data": {
      "text/markdown": [
       "<h2>A simple data enrichment workflow demo."
      ],
      "text/plain": [
       "<IPython.core.display.Markdown object>"
      ]
     },
     "metadata": {},
     "output_type": "display_data"
    },
    {
     "data": {
      "text/markdown": [
       "This notebooks simulates the following workflow:"
      ],
      "text/plain": [
       "<IPython.core.display.Markdown object>"
      ]
     },
     "metadata": {},
     "output_type": "display_data"
    },
    {
     "data": {
      "text/markdown": [
       "* Grab latest digital specimen data"
      ],
      "text/plain": [
       "<IPython.core.display.Markdown object>"
      ]
     },
     "metadata": {},
     "output_type": "display_data"
    },
    {
     "data": {
      "text/markdown": [
       "* Add a comment for a specific element"
      ],
      "text/plain": [
       "<IPython.core.display.Markdown object>"
      ]
     },
     "metadata": {},
     "output_type": "display_data"
    },
    {
     "data": {
      "text/markdown": [
       "* Add a new section (enhance the digital object data)"
      ],
      "text/plain": [
       "<IPython.core.display.Markdown object>"
      ]
     },
     "metadata": {},
     "output_type": "display_data"
    },
    {
     "data": {
      "text/markdown": [
       "* Find external annotation that uses this digital object. Include relevant data"
      ],
      "text/plain": [
       "<IPython.core.display.Markdown object>"
      ]
     },
     "metadata": {},
     "output_type": "display_data"
    }
   ],
   "source": [
    "display(md(\"<h2>A simple data enrichment workflow demo.\"))\n",
    "display(md(\"This notebooks simulates the following workflow:\"))\n",
    "display(md(\"* Grab latest digital specimen data\"))\n",
    "display(md(\"* Add a comment for a specific element\"))\n",
    "display(md(\"* Add a new section (enhance the digital object data)\"))\n",
    "display(md(\"* Find external annotation that uses this digital object. Include relevant data\"))"
   ]
  },
  {
   "cell_type": "code",
   "execution_count": 3,
   "id": "ec38c428",
   "metadata": {},
   "outputs": [
    {
     "name": "stdout",
     "output_type": "stream",
     "text": [
      "{\n",
      "    \"ods:curatedObjectID\": \"https://data.biodiversitydata.nl/naturalis/specimen/RMNH.RENA.7935\",\n",
      "    \"ods:institution\": \"Naturalis Biodiversity Center\",\n",
      "    \"ods:materialType\": \"PreservedSpecimen\",\n",
      "    \"ods:midsLevel\": 1,\n",
      "    \"ods:name\": \"Tomistoma schlegelii (M?ller, 1838)\",\n",
      "    \"ods:physicalSpecimenId\": \"RMNH.RENA.7935\"\n",
      "}\n"
     ]
    }
   ],
   "source": [
    "# get the digital object in JSON \n",
    "\n",
    "mydigitalspecimen = \"https://nsidr.org/objects/20.5000.1025/1036a7dabe249de9b0cd\"\n",
    "dsreq = requests.get(mydigitalspecimen)\n",
    "jsonres = json.loads(dsreq.content)\n",
    "print(json.dumps(jsonres['ods:authoritative'], indent=4, sort_keys=True))"
   ]
  },
  {
   "cell_type": "code",
   "execution_count": 4,
   "id": "165a65b6",
   "metadata": {},
   "outputs": [
    {
     "name": "stdout",
     "output_type": "stream",
     "text": [
      "\"\\\"M?ller S.\\\"\"\n"
     ]
    }
   ],
   "source": [
    "#get the collector name, \n",
    "# ignore the UTF, data encoding issue, we will fix it. \n",
    "\n",
    "collector = json.dumps(jsonres['ods:unmapped']['recordedBy'])\n",
    "print(json.dumps(collector, indent=4, sort_keys=True))\n"
   ]
  },
  {
   "cell_type": "code",
   "execution_count": 5,
   "id": "b19c28b1",
   "metadata": {},
   "outputs": [
    {
     "data": {
      "text/markdown": [
       "<b>Use an annotation tool. Here we are using the browser plugin hypothes.is tool."
      ],
      "text/plain": [
       "<IPython.core.display.Markdown object>"
      ]
     },
     "metadata": {},
     "output_type": "display_data"
    }
   ],
   "source": [
    "display(md(\"<b>Use an annotation tool. Here we are using the browser plugin hypothes.is tool.\"))"
   ]
  },
  {
   "cell_type": "code",
   "execution_count": 6,
   "id": "331160f3",
   "metadata": {},
   "outputs": [
    {
     "name": "stdout",
     "output_type": "stream",
     "text": [
      "\"This is Salomon M\\u00fcller https://bionomia.net/Q61390\"\n"
     ]
    }
   ],
   "source": [
    "myanno = \"https://hypothes.is/api/search?uri=https://nsidr.org/#objects/20.5000.1025/1036a7dabe249de9b0cd\"\n",
    "annoreq = requests.get(myanno)\n",
    "annojsonres = json.loads(annoreq.content)\n",
    "annotations = annojsonres['rows'][2]['text']\n",
    "print(json.dumps(annotations, indent=4, sort_keys=True))"
   ]
  },
  {
   "cell_type": "code",
   "execution_count": 7,
   "id": "7e4ddd45",
   "metadata": {},
   "outputs": [
    {
     "data": {
      "text/markdown": [
       "<b>Add another section to the digital object -- related publications"
      ],
      "text/plain": [
       "<IPython.core.display.Markdown object>"
      ]
     },
     "metadata": {},
     "output_type": "display_data"
    },
    {
     "name": "stdout",
     "output_type": "stream",
     "text": [
      "[\n",
      "    {\n",
      "        \"doi\": \"https://doi.org/10.5962/bhl.title.114730\",\n",
      "        \"title\": \"Verhandelingen over de natuurlijke geschiedenis der Nederlandsche overzeesche bezittingen\"\n",
      "    },\n",
      "    {\n",
      "        \"doi\": \"https://doi.org/10.1088/1755-1315/716/1/012066\",\n",
      "        \"title\": \"Overview of the traditional Indonesian knowledge on the use of reptiles\"\n",
      "    },\n",
      "    {\n",
      "        \"title\": \"Over krokodillenvangers en schedeltentoonstellingen\",\n",
      "        \"urn\": \"urn:nbn:nl:ui:28-61f80709-29fc-418b-a3cc-b96056992d10\"\n",
      "    },\n",
      "    {\n",
      "        \"doi\": \"https://doi.org/10.11646/zootaxa.5039.1.2\",\n",
      "        \"title\": \"Three\\u2019s Company: discovery of a third syntype of Stegonotus lividus, a species of colubrid snake from Pulau Semau, Lesser Sunda Islands, Indonesia, with comments on an unpublished 19th Century manuscript by the naturalist Salomon M\\u00fcller\"\n",
      "    },\n",
      "    {\n",
      "        \"doi\": \"https://doi.org/10.1111/1600-0498.12346\",\n",
      "        \"title\": \"Science on the edge of empire: E. A. Forsten (1811\\u20131843) and the Natural History Committee (1820\\u20131850) in the Netherlands Indies\"\n",
      "    }\n",
      "]\n"
     ]
    }
   ],
   "source": [
    "display(md(\"<b>Add another section to the digital object -- related publications\"))\n",
    "\n",
    "# there are related publications that I want to add to the digital objects \n",
    "# <not shown here> run update operation on the Digital Object \n",
    "\n",
    "pubs = jsonres['ods:publications']\n",
    "print(json.dumps(pubs, indent=4, sort_keys=True))"
   ]
  },
  {
   "cell_type": "code",
   "execution_count": 8,
   "id": "40287715",
   "metadata": {},
   "outputs": [
    {
     "data": {
      "text/markdown": [
       "<b> This IIIF image and annotation uses the image related to the specimen"
      ],
      "text/plain": [
       "<IPython.core.display.Markdown object>"
      ]
     },
     "metadata": {},
     "output_type": "display_data"
    },
    {
     "data": {
      "text/markdown": [
       "Include annotation in the Digital Specimen from an external IIIF system"
      ],
      "text/plain": [
       "<IPython.core.display.Markdown object>"
      ]
     },
     "metadata": {},
     "output_type": "display_data"
    }
   ],
   "source": [
    "# grab another annotations \n",
    "# assume there will be DOI connecting these elements. We might have another annotation in another platform \n",
    "\n",
    "display(md(\"<b> This IIIF image and annotation uses the image related to the specimen\"))\n",
    "display(md(\"Include annotation in the Digital Specimen from an external IIIF system\"))\n",
    "\n",
    "iiifanno = \"https://jqz7t23pp9.execute-api.us-east-1.amazonaws.com/dev/annotation/c55001e09e2b11ec887c43af9948e236/annotations.json\"\n",
    "\n",
    "iiifannoreq = requests.get(iiifanno)\n",
    "iiifannoreqres = json.loads(iiifannoreq.content)"
   ]
  },
  {
   "cell_type": "code",
   "execution_count": 9,
   "id": "07a792a1",
   "metadata": {},
   "outputs": [
    {
     "name": "stdout",
     "output_type": "stream",
     "text": [
      "{\n",
      "    \"@id\": \"6f5eb4b09e2c11ec9db007b6408394eb\",\n",
      "    \"@type\": \"oa:Annotation\",\n",
      "    \"motivation\": \"sc:painting\",\n",
      "    \"on\": \"https://free.iiifhosting.com/iiif/fa9244ecaf5a6f19d5e17be5ca5b4ea2292b3238831caf9fc8ea83a260cecbcc/canvas/c0#xywh=451.283989448052,387.2682629870127,1018.1818181818181,746.3636363636364\",\n",
      "    \"resource\": {\n",
      "        \"@type\": \"cnt:ContentAsText\",\n",
      "        \"chars\": \"Tomistoma means \\\"sharp mouth\\\", derived from tomos (Greek for \\\"cutting\\\" or \\\"sharp\\\") + stoma (Greek for \\\"mouth\\\"), referring to the slender shape of the jaws\\n\\nSchlegelii means \\\"of Schlegel\\\", referring to the Dutch zoologist H. Schlegel (1804-1884) who is credited with its discovery.\",\n",
      "        \"format\": \"text/plain\"\n",
      "    }\n",
      "}\n"
     ]
    }
   ],
   "source": [
    "resoures_iif = iiifannoreqres['resources'][1]\n",
    "print(json.dumps(resoures_iif, indent=4, sort_keys=True))"
   ]
  },
  {
   "cell_type": "code",
   "execution_count": null,
   "id": "e765cf3a",
   "metadata": {},
   "outputs": [],
   "source": []
  }
 ],
 "metadata": {
  "kernelspec": {
   "display_name": "Python 3 (ipykernel)",
   "language": "python",
   "name": "python3"
  },
  "language_info": {
   "codemirror_mode": {
    "name": "ipython",
    "version": 3
   },
   "file_extension": ".py",
   "mimetype": "text/x-python",
   "name": "python",
   "nbconvert_exporter": "python",
   "pygments_lexer": "ipython3",
   "version": "3.9.1"
  },
  "toc": {
   "base_numbering": 1,
   "nav_menu": {},
   "number_sections": true,
   "sideBar": false,
   "skip_h1_title": false,
   "title_cell": "Table of Contents",
   "title_sidebar": "Contents",
   "toc_cell": false,
   "toc_position": {},
   "toc_section_display": true,
   "toc_window_display": false
  }
 },
 "nbformat": 4,
 "nbformat_minor": 5
}
