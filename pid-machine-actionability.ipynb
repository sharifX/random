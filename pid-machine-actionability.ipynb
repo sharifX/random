{
 "cells": [
  {
   "cell_type": "code",
   "execution_count": 95,
   "id": "66710cd2",
   "metadata": {},
   "outputs": [
    {
     "name": "stdout",
     "output_type": "stream",
     "text": [
      "Content-Type: application/json;charset=UTF-8\n",
      "Content-Length: 1874\n",
      "Date: Wed, 10 Aug 2022 07:50:46 GMT\n",
      "Connection: close\n",
      "\n",
      "\n",
      "   index                      type    ttl             timestamp data.format  \\\n",
      "0      1                       URL  86400  2022-07-27T07:29:58Z      string   \n",
      "1      2                 pidIssuer  86400  2022-07-27T07:29:58Z      string   \n",
      "2      3         digitalObjectType  86400  2022-07-27T07:29:58Z      string   \n",
      "3      4                 issueDate  86400  2022-07-27T07:29:58Z      string   \n",
      "4      5               IssueNumber  86400  2022-07-27T07:29:58Z      string   \n",
      "5      6                 pidStatus  86400  2022-07-27T07:29:58Z      string   \n",
      "6      7  pidKernelMetadataLicense  86400  2022-07-27T07:29:58Z      string   \n",
      "7      8                  referent  86400  2022-07-27T07:29:58Z      string   \n",
      "8    100                  HS_ADMIN  86400  2022-07-27T07:29:58Z       admin   \n",
      "\n",
      "                                          data.value      data.value.handle  \\\n",
      "0  https://sandbox.dissco.tech/api/v1/specimen/te...                    NaN   \n",
      "1   {\\n\"pid\":\"20.5000.1025/\",\"nameFromPid\":\"DiSSCo\"}                    NaN   \n",
      "2                                GeologyRockSpecimen                    NaN   \n",
      "3                                         2022-07-27                    NaN   \n",
      "4                                                  1                    NaN   \n",
      "5                                             ACTIVE                    NaN   \n",
      "6                              Creative Commons Zero                    NaN   \n",
      "7  {\"referentIdentifiers\": \"test/bff3e176-7ace-45...                    NaN   \n",
      "8                                                NaN  300:0.NA/20.5000.1025   \n",
      "\n",
      "   data.value.index data.value.permissions  \n",
      "0               NaN                    NaN  \n",
      "1               NaN                    NaN  \n",
      "2               NaN                    NaN  \n",
      "3               NaN                    NaN  \n",
      "4               NaN                    NaN  \n",
      "5               NaN                    NaN  \n",
      "6               NaN                    NaN  \n",
      "7               NaN                    NaN  \n",
      "8             200.0           011111110011  \n"
     ]
    }
   ],
   "source": [
    "import json\n",
    "import pprint\n",
    "import pandas as pd \n",
    "from urllib.request import urlopen\n",
    "\n",
    "pp = pprint.PrettyPrinter(indent=4)\n",
    "disscopid=\"20.5000.1025/2FAH-GB4Y\"\n",
    "pidresponse = urlopen('https://hdl.handle.net/api/handles/20.5000.1025/2FAH-GB4Y')\n",
    "print(pidresponse.info())\n",
    "\n",
    "pid_json_object = json.load(pidresponse)\n",
    "\n",
    "# SHOW the data structure \n",
    "# as a data frame\n",
    "\n",
    "df = pd.json_normalize(pid_json_object['values'])\n",
    "print(df)\n"
   ]
  },
  {
   "cell_type": "code",
   "execution_count": 96,
   "id": "981ef7fc",
   "metadata": {},
   "outputs": [
    {
     "name": "stdout",
     "output_type": "stream",
     "text": [
      "Object Type:\n",
      "{   'data': {'format': 'string', 'value': 'GeologyRockSpecimen'},\n",
      "    'index': 3,\n",
      "    'timestamp': '2022-07-27T07:29:58Z',\n",
      "    'ttl': 86400,\n",
      "    'type': 'digitalObjectType'}\n",
      "API:\n",
      "https://sandbox.dissco.tech/api/v1/specimen/test/bff3e176-7ace-45f0-b40e-c3d8dd495de1\n"
     ]
    }
   ],
   "source": [
    "# Get the specific elements \n",
    "\n",
    "# This shows the type -- digitalObjectType \n",
    "\n",
    "print(\"Object Type:\")\n",
    "pp.pprint(pid_json_object['values'][2])\n",
    "\n",
    "#Get the API endpoint\n",
    "print(\"API:\")\n",
    "api_end_point = pid_json_object['values'][0]['data']['value']\n",
    "print(api_end_point)\n",
    "#print(pid_json_object['values'][1])\n",
    "#print(pid_json_object['values'][2]['type'])\n",
    "\n"
   ]
  },
  {
   "cell_type": "code",
   "execution_count": 97,
   "id": "7b330a58",
   "metadata": {},
   "outputs": [
    {
     "name": "stdout",
     "output_type": "stream",
     "text": [
      "{   'data': {   'format': 'string',\n",
      "                'value': '{\\n\"pid\":\"20.5000.1025/\",\"nameFromPid\":\"DiSSCo\"}'},\n",
      "    'index': 2,\n",
      "    'timestamp': '2022-07-27T07:29:58Z',\n",
      "    'ttl': 86400,\n",
      "    'type': 'pidIssuer'}\n"
     ]
    }
   ],
   "source": [
    "# Who is the PID issuer \n",
    "\n",
    "pp.pprint(pid_json_object['values'][1])\n"
   ]
  },
  {
   "cell_type": "code",
   "execution_count": 98,
   "id": "6d86bd5d",
   "metadata": {},
   "outputs": [
    {
     "name": "stdout",
     "output_type": "stream",
     "text": [
      "{   'data': {   'format': 'string',\n",
      "                'value': '{\"referentIdentifiers\": '\n",
      "                         '\"test/bff3e176-7ace-45f0-b40e-c3d8dd495de1\", '\n",
      "                         '\"primaryReferentType\": \"creation\", \"creationName\": '\n",
      "                         '\"Boloria euphrosyne (Linnaeus, 1758)\", '\n",
      "                         '\"structuralType\": \"physical\", \"mode\": \"tangible\", '\n",
      "                         '\"character\": \"other\", \"principalAgent\": '\n",
      "                         '\"\\'principalAgent\\': { \\'name\\': \\'value\\': \\'NMR\\', '\n",
      "                         \"'type': 'PrincipalName','identifier': [{'value': \"\n",
      "                         \"'https://ror.org/00w9zab79', 'type': 'ROR'} \"\n",
      "                         '],\\\\n\\'role\\': \\'Creator\\' }\", \"digitalOrPhysical\": '\n",
      "                         '\"physical\"}'},\n",
      "    'index': 8,\n",
      "    'timestamp': '2022-07-27T07:29:58Z',\n",
      "    'ttl': 86400,\n",
      "    'type': 'referent'}\n"
     ]
    }
   ],
   "source": [
    "#referent\n",
    "pp.pprint(pid_json_object['values'][7])"
   ]
  },
  {
   "cell_type": "code",
   "execution_count": null,
   "id": "a82404f6",
   "metadata": {},
   "outputs": [],
   "source": []
  },
  {
   "cell_type": "code",
   "execution_count": null,
   "id": "053aca8e",
   "metadata": {},
   "outputs": [],
   "source": []
  }
 ],
 "metadata": {
  "kernelspec": {
   "display_name": "Python 3 (ipykernel)",
   "language": "python",
   "name": "python3"
  },
  "language_info": {
   "codemirror_mode": {
    "name": "ipython",
    "version": 3
   },
   "file_extension": ".py",
   "mimetype": "text/x-python",
   "name": "python",
   "nbconvert_exporter": "python",
   "pygments_lexer": "ipython3",
   "version": "3.9.1"
  },
  "toc": {
   "base_numbering": 1,
   "nav_menu": {},
   "number_sections": true,
   "sideBar": false,
   "skip_h1_title": false,
   "title_cell": "Table of Contents",
   "title_sidebar": "Contents",
   "toc_cell": false,
   "toc_position": {},
   "toc_section_display": true,
   "toc_window_display": false
  }
 },
 "nbformat": 4,
 "nbformat_minor": 5
}
